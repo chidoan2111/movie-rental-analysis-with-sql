{
 "cells": [
  {
   "cell_type": "markdown",
   "metadata": {},
   "source": [
    "# Set up tables"
   ]
  },
  {
   "cell_type": "code",
   "execution_count": 1,
   "metadata": {
    "scrolled": true
   },
   "outputs": [
    {
     "name": "stdout",
     "output_type": "stream",
     "text": [
      "Collecting ipython-sql\n",
      "  Using cached ipython_sql-0.4.0-py3-none-any.whl (19 kB)\n",
      "Requirement already satisfied: sqlalchemy>=0.6.7 in c:\\programdata\\anaconda3\\lib\\site-packages (from ipython-sql) (1.3.13)\n",
      "Processing c:\\users\\tbui1\\appdata\\local\\pip\\cache\\wheels\\8c\\76\\0b\\eb9eb3da7e2335e3577e3f96a0ae9f74f206e26457bd1a2bc8\\prettytable-0.7.2-py3-none-any.whl\n",
      "Requirement already satisfied: ipython-genutils>=0.1.0 in c:\\programdata\\anaconda3\\lib\\site-packages (from ipython-sql) (0.2.0)\n",
      "Requirement already satisfied: six in c:\\programdata\\anaconda3\\lib\\site-packages (from ipython-sql) (1.14.0)\n",
      "Requirement already satisfied: ipython>=1.0 in c:\\programdata\\anaconda3\\lib\\site-packages (from ipython-sql) (7.12.0)\n",
      "Collecting sqlparse\n",
      "  Using cached sqlparse-0.4.1-py3-none-any.whl (42 kB)\n",
      "Requirement already satisfied: jedi>=0.10 in c:\\programdata\\anaconda3\\lib\\site-packages (from ipython>=1.0->ipython-sql) (0.14.1)\n",
      "Requirement already satisfied: traitlets>=4.2 in c:\\programdata\\anaconda3\\lib\\site-packages (from ipython>=1.0->ipython-sql) (4.3.3)\n",
      "Requirement already satisfied: decorator in c:\\programdata\\anaconda3\\lib\\site-packages (from ipython>=1.0->ipython-sql) (4.4.1)\n",
      "Requirement already satisfied: setuptools>=18.5 in c:\\programdata\\anaconda3\\lib\\site-packages (from ipython>=1.0->ipython-sql) (45.2.0.post20200210)\n",
      "Requirement already satisfied: pickleshare in c:\\programdata\\anaconda3\\lib\\site-packages (from ipython>=1.0->ipython-sql) (0.7.5)\n",
      "Requirement already satisfied: pygments in c:\\programdata\\anaconda3\\lib\\site-packages (from ipython>=1.0->ipython-sql) (2.5.2)\n",
      "Requirement already satisfied: prompt-toolkit!=3.0.0,!=3.0.1,<3.1.0,>=2.0.0 in c:\\programdata\\anaconda3\\lib\\site-packages (from ipython>=1.0->ipython-sql) (3.0.3)\n",
      "Requirement already satisfied: backcall in c:\\programdata\\anaconda3\\lib\\site-packages (from ipython>=1.0->ipython-sql) (0.1.0)\n",
      "Requirement already satisfied: colorama; sys_platform == \"win32\" in c:\\programdata\\anaconda3\\lib\\site-packages (from ipython>=1.0->ipython-sql) (0.4.3)\n",
      "Requirement already satisfied: parso>=0.5.0 in c:\\programdata\\anaconda3\\lib\\site-packages (from jedi>=0.10->ipython>=1.0->ipython-sql) (0.5.2)\n",
      "Requirement already satisfied: wcwidth in c:\\programdata\\anaconda3\\lib\\site-packages (from prompt-toolkit!=3.0.0,!=3.0.1,<3.1.0,>=2.0.0->ipython>=1.0->ipython-sql) (0.1.8)\n",
      "Installing collected packages: prettytable, sqlparse, ipython-sql\n",
      "Successfully installed ipython-sql-0.4.0 prettytable-0.7.2 sqlparse-0.4.1\n",
      "Collecting mysqlclient\n",
      "  Using cached mysqlclient-2.0.3-cp37-cp37m-win_amd64.whl (178 kB)\n",
      "Installing collected packages: mysqlclient\n",
      "Successfully installed mysqlclient-2.0.3\n"
     ]
    }
   ],
   "source": [
    "# !pip install ipython-sql\n",
    "# !pip install mysqlclient"
   ]
  },
  {
   "cell_type": "code",
   "execution_count": 2,
   "metadata": {
    "scrolled": true
   },
   "outputs": [],
   "source": [
    "import sqlalchemy\n",
    "import MySQLdb\n",
    "sqlalchemy.create_engine('mysql://root@localhost/movie_rental')\n",
    "%load_ext sql\n",
    "%sql mysql://root@localhost/movie_rental"
   ]
  },
  {
   "cell_type": "code",
   "execution_count": 3,
   "metadata": {
    "scrolled": false
   },
   "outputs": [
    {
     "name": "stdout",
     "output_type": "stream",
     "text": [
      " * mysql://root@localhost/movie_rental\n",
      "5 rows affected.\n"
     ]
    },
    {
     "data": {
      "text/html": [
       "<table>\n",
       "    <tr>\n",
       "        <th>Tables_in_movie_rental</th>\n",
       "    </tr>\n",
       "    <tr>\n",
       "        <td>actors</td>\n",
       "    </tr>\n",
       "    <tr>\n",
       "        <td>actsin</td>\n",
       "    </tr>\n",
       "    <tr>\n",
       "        <td>customers</td>\n",
       "    </tr>\n",
       "    <tr>\n",
       "        <td>movies</td>\n",
       "    </tr>\n",
       "    <tr>\n",
       "        <td>renting</td>\n",
       "    </tr>\n",
       "</table>"
      ],
      "text/plain": [
       "[('actors',), ('actsin',), ('customers',), ('movies',), ('renting',)]"
      ]
     },
     "execution_count": 3,
     "metadata": {},
     "output_type": "execute_result"
    }
   ],
   "source": [
    "%%sql\n",
    "SHOW TABLES;"
   ]
  },
  {
   "cell_type": "markdown",
   "metadata": {},
   "source": [
    "# Perform Analysis"
   ]
  },
  {
   "cell_type": "markdown",
   "metadata": {},
   "source": [
    "## Get to know the customers"
   ]
  },
  {
   "cell_type": "markdown",
   "metadata": {},
   "source": [
    "### Question 1: Where are most customers located?"
   ]
  },
  {
   "cell_type": "code",
   "execution_count": 61,
   "metadata": {
    "scrolled": true
   },
   "outputs": [
    {
     "name": "stdout",
     "output_type": "stream",
     "text": [
      " * mysql://root@localhost/movie_rental\n",
      "5 rows affected.\n"
     ]
    },
    {
     "data": {
      "text/html": [
       "<table>\n",
       "    <tr>\n",
       "        <th>country</th>\n",
       "        <th>customers</th>\n",
       "    </tr>\n",
       "    <tr>\n",
       "        <td>Italy</td>\n",
       "        <td>27</td>\n",
       "    </tr>\n",
       "    <tr>\n",
       "        <td>Spain</td>\n",
       "        <td>16</td>\n",
       "    </tr>\n",
       "    <tr>\n",
       "        <td>France</td>\n",
       "        <td>13</td>\n",
       "    </tr>\n",
       "    <tr>\n",
       "        <td>Poland</td>\n",
       "        <td>13</td>\n",
       "    </tr>\n",
       "    <tr>\n",
       "        <td>Hungary</td>\n",
       "        <td>11</td>\n",
       "    </tr>\n",
       "</table>"
      ],
      "text/plain": [
       "[('Italy', 27), ('Spain', 16), ('France', 13), ('Poland', 13), ('Hungary', 11)]"
      ]
     },
     "execution_count": 61,
     "metadata": {},
     "output_type": "execute_result"
    }
   ],
   "source": [
    "%%sql\n",
    "SELECT country, COUNT(*) as customers\n",
    "FROM customers\n",
    "GROUP BY country\n",
    "ORDER BY customers DESC\n",
    "LIMIT 5;\n"
   ]
  },
  {
   "cell_type": "markdown",
   "metadata": {},
   "source": [
    "Understanding customers' locations helps identify the subtitles to add to the movies and where movies should be sourced. The majority of customers are in Europe (Italy, Spain, France, Poland, and Hungary in particular), which means we can add Italian, Spanish, French, etc. subtitles to the movies and source more movies from these countries."
   ]
  },
  {
   "cell_type": "markdown",
   "metadata": {},
   "source": [
    "### Question 2: What is the activation rate?"
   ]
  },
  {
   "cell_type": "code",
   "execution_count": 63,
   "metadata": {},
   "outputs": [
    {
     "name": "stdout",
     "output_type": "stream",
     "text": [
      " * mysql://root@localhost/movie_rental\n",
      "1 rows affected.\n"
     ]
    },
    {
     "data": {
      "text/html": [
       "<table>\n",
       "    <tr>\n",
       "        <th>activation_rate</th>\n",
       "    </tr>\n",
       "    <tr>\n",
       "        <td>0.9431</td>\n",
       "    </tr>\n",
       "</table>"
      ],
      "text/plain": [
       "[(Decimal('0.9431'),)]"
      ]
     },
     "execution_count": 63,
     "metadata": {},
     "output_type": "execute_result"
    }
   ],
   "source": [
    "%%sql\n",
    "SELECT COUNT(DISTINCT(r.customer_id))/COUNT(DISTINCT(c.customer_id)) as activation_rate\n",
    "FROM customers c\n",
    "LEFT JOIN renting r ON c.customer_id = r.customer_id;\n"
   ]
  },
  {
   "cell_type": "markdown",
   "metadata": {},
   "source": [
    "The activation rate is the percentage of customers who rent at least one movie amongst all registered customers. The current activation rate is 94%, which is high but there are still opportunities for improvement. The company may increase the rate by sending not-yet-activated customers marketing emails or giving them incentives to watch a movie."
   ]
  },
  {
   "cell_type": "markdown",
   "metadata": {},
   "source": [
    "### Question 3: What is the average activation time?"
   ]
  },
  {
   "cell_type": "code",
   "execution_count": 6,
   "metadata": {
    "scrolled": true
   },
   "outputs": [
    {
     "name": "stdout",
     "output_type": "stream",
     "text": [
      " * mysql://root@localhost/movie_rental\n",
      "1 rows affected.\n"
     ]
    },
    {
     "data": {
      "text/html": [
       "<table>\n",
       "    <tr>\n",
       "        <th>activation_time_days_avg</th>\n",
       "    </tr>\n",
       "    <tr>\n",
       "        <td>73</td>\n",
       "    </tr>\n",
       "</table>"
      ],
      "text/plain": [
       "[(Decimal('73'),)]"
      ]
     },
     "execution_count": 6,
     "metadata": {},
     "output_type": "execute_result"
    }
   ],
   "source": [
    "%%sql\n",
    "SELECT ROUND(AVG(activation_time_days),0) as activation_time_days_avg\n",
    "FROM\n",
    "    #activation time of each customer = first day the customer watched a movie - account start date\n",
    "    (SELECT DATEDIFF(MIN(r.date_renting), c.date_account_start) as activation_time_days, c.customer_id\n",
    "    FROM renting r\n",
    "    JOIN customers c ON r.customer_id = c.customer_id\n",
    "    GROUP BY c.customer_id) a;"
   ]
  },
  {
   "cell_type": "markdown",
   "metadata": {},
   "source": [
    "The current average activation time is 73 days, which means it takes an average customer more than 3 months to rent the first movie on the platform since sign-up. The company should shorten the activation time to increase engagement and reduce drop-offs. For example, customers should receive onboarding emails with movie suggestions based on their interests during the first week of sign-up."
   ]
  },
  {
   "cell_type": "markdown",
   "metadata": {},
   "source": [
    "### Question 4: What is the repeat customer rate?"
   ]
  },
  {
   "cell_type": "code",
   "execution_count": 65,
   "metadata": {},
   "outputs": [
    {
     "name": "stdout",
     "output_type": "stream",
     "text": [
      " * mysql://root@localhost/movie_rental\n",
      "1 rows affected.\n"
     ]
    },
    {
     "data": {
      "text/html": [
       "<table>\n",
       "    <tr>\n",
       "        <th>repeat_cust_rate</th>\n",
       "    </tr>\n",
       "    <tr>\n",
       "        <td>0.8293</td>\n",
       "    </tr>\n",
       "</table>"
      ],
      "text/plain": [
       "[(Decimal('0.8293'),)]"
      ]
     },
     "execution_count": 65,
     "metadata": {},
     "output_type": "execute_result"
    }
   ],
   "source": [
    "%%sql\n",
    "SELECT COUNT(customer_id)/(SELECT COUNT(DISTINCT(customer_id)) FROM customers) as repeat_cust_rate\n",
    "FROM\n",
    "    #number of movies each customer watched\n",
    "    (SELECT customer_id, COUNT(movie_id) as movies_watched\n",
    "    FROM renting\n",
    "    GROUP BY customer_id) a\n",
    "WHERE movies_watched >= 2;\n"
   ]
  },
  {
   "cell_type": "markdown",
   "metadata": {},
   "source": [
    "The repeat customer rate reflects customer satisfaction on the website. 83% customers what 2 movies or more, which means customers are relatively satisfied with the service. The company may increase this rate by recommending more relevant and highly-rated movies that may interest customers."
   ]
  },
  {
   "cell_type": "markdown",
   "metadata": {},
   "source": [
    "## Movie Performance Analysis"
   ]
  },
  {
   "cell_type": "markdown",
   "metadata": {},
   "source": [
    "### Question 5: What are the most popular movies?"
   ]
  },
  {
   "cell_type": "code",
   "execution_count": 20,
   "metadata": {},
   "outputs": [
    {
     "name": "stdout",
     "output_type": "stream",
     "text": [
      " * mysql://root@localhost/movie_rental\n",
      "10 rows affected.\n"
     ]
    },
    {
     "data": {
      "text/html": [
       "<table>\n",
       "    <tr>\n",
       "        <th>title</th>\n",
       "        <th>rentals</th>\n",
       "    </tr>\n",
       "    <tr>\n",
       "        <td>The Kingdom</td>\n",
       "        <td>15</td>\n",
       "    </tr>\n",
       "    <tr>\n",
       "        <td>Training Day</td>\n",
       "        <td>14</td>\n",
       "    </tr>\n",
       "    <tr>\n",
       "        <td>Harry Potter and the Half-Blood Prince</td>\n",
       "        <td>13</td>\n",
       "    </tr>\n",
       "    <tr>\n",
       "        <td>Monster</td>\n",
       "        <td>13</td>\n",
       "    </tr>\n",
       "    <tr>\n",
       "        <td>World Trade Center</td>\n",
       "        <td>13</td>\n",
       "    </tr>\n",
       "    <tr>\n",
       "        <td>Bridget Jones - The Edge of Reason</td>\n",
       "        <td>13</td>\n",
       "    </tr>\n",
       "    <tr>\n",
       "        <td>Harry Potter and the Deathly Hallows – Part 2</td>\n",
       "        <td>12</td>\n",
       "    </tr>\n",
       "    <tr>\n",
       "        <td>Fair Game</td>\n",
       "        <td>12</td>\n",
       "    </tr>\n",
       "    <tr>\n",
       "        <td>Two for the Money</td>\n",
       "        <td>11</td>\n",
       "    </tr>\n",
       "    <tr>\n",
       "        <td>The Two Towers</td>\n",
       "        <td>11</td>\n",
       "    </tr>\n",
       "</table>"
      ],
      "text/plain": [
       "[('The Kingdom', 15),\n",
       " ('Training Day', 14),\n",
       " ('Harry Potter and the Half-Blood Prince', 13),\n",
       " ('Monster', 13),\n",
       " ('World Trade Center', 13),\n",
       " ('Bridget Jones - The Edge of Reason', 13),\n",
       " ('Harry Potter and the Deathly Hallows – Part 2', 12),\n",
       " ('Fair Game', 12),\n",
       " ('Two for the Money', 11),\n",
       " ('The Two Towers', 11)]"
      ]
     },
     "execution_count": 20,
     "metadata": {},
     "output_type": "execute_result"
    }
   ],
   "source": [
    "%%sql\n",
    "SELECT m.title, COUNT(r.renting_id) as rentals\n",
    "FROM movies m\n",
    "JOIN renting r ON r.movie_id = m.movie_id\n",
    "GROUP BY title\n",
    "ORDER BY rentals DESC\n",
    "LIMIT 10;"
   ]
  },
  {
   "cell_type": "markdown",
   "metadata": {},
   "source": [
    "The company can use the list of most watched movies above to feature in the \"Most Popular\" recommendation tab on the website."
   ]
  },
  {
   "cell_type": "markdown",
   "metadata": {},
   "source": [
    "### Question 6: What are the highest-rated movies?"
   ]
  },
  {
   "cell_type": "code",
   "execution_count": 22,
   "metadata": {},
   "outputs": [
    {
     "name": "stdout",
     "output_type": "stream",
     "text": [
      " * mysql://root@localhost/movie_rental\n",
      "10 rows affected.\n"
     ]
    },
    {
     "data": {
      "text/html": [
       "<table>\n",
       "    <tr>\n",
       "        <th>title</th>\n",
       "        <th>rating</th>\n",
       "    </tr>\n",
       "    <tr>\n",
       "        <td>Ghost Rider: Spirit of Vengeance</td>\n",
       "        <td>9.0000</td>\n",
       "    </tr>\n",
       "    <tr>\n",
       "        <td>Morning Glory</td>\n",
       "        <td>8.4286</td>\n",
       "    </tr>\n",
       "    <tr>\n",
       "        <td>The Other Woman</td>\n",
       "        <td>7.5000</td>\n",
       "    </tr>\n",
       "    <tr>\n",
       "        <td>Harry Potter and the Philosopher&#x27;s Stone</td>\n",
       "        <td>7.3333</td>\n",
       "    </tr>\n",
       "    <tr>\n",
       "        <td>Harry Potter and the Half-Blood Prince</td>\n",
       "        <td>7.3077</td>\n",
       "    </tr>\n",
       "    <tr>\n",
       "        <td>Winter&#x27;s Bone</td>\n",
       "        <td>7.1111</td>\n",
       "    </tr>\n",
       "    <tr>\n",
       "        <td>Imagining Argentina</td>\n",
       "        <td>6.5000</td>\n",
       "    </tr>\n",
       "    <tr>\n",
       "        <td>Secondhand Lions</td>\n",
       "        <td>6.4286</td>\n",
       "    </tr>\n",
       "    <tr>\n",
       "        <td>Harry Potter and the Chamber of Secrets</td>\n",
       "        <td>6.4000</td>\n",
       "    </tr>\n",
       "    <tr>\n",
       "        <td>Harry Potter and the Prisoner of Azkaban</td>\n",
       "        <td>6.4000</td>\n",
       "    </tr>\n",
       "</table>"
      ],
      "text/plain": [
       "[('Ghost Rider: Spirit of Vengeance', Decimal('9.0000')),\n",
       " ('Morning Glory', Decimal('8.4286')),\n",
       " ('The Other Woman', Decimal('7.5000')),\n",
       " (\"Harry Potter and the Philosopher's Stone\", Decimal('7.3333')),\n",
       " ('Harry Potter and the Half-Blood Prince', Decimal('7.3077')),\n",
       " (\"Winter's Bone\", Decimal('7.1111')),\n",
       " ('Imagining Argentina', Decimal('6.5000')),\n",
       " ('Secondhand Lions', Decimal('6.4286')),\n",
       " ('Harry Potter and the Chamber of Secrets', Decimal('6.4000')),\n",
       " ('Harry Potter and the Prisoner of Azkaban', Decimal('6.4000'))]"
      ]
     },
     "execution_count": 22,
     "metadata": {},
     "output_type": "execute_result"
    }
   ],
   "source": [
    "%%sql\n",
    "SELECT m.title, AVG(r.rating) as rating\n",
    "FROM movies m\n",
    "JOIN renting r ON r.movie_id = m.movie_id\n",
    "GROUP BY title\n",
    "ORDER BY rating DESC\n",
    "LIMIT 10;"
   ]
  },
  {
   "cell_type": "markdown",
   "metadata": {},
   "source": [
    "The company can use the list of most watched movies above to feature in the \"Top-Rated\" recommendation tab on the website. This table also shows that most highest-rated movies only receive 6-7/10 rating, which means the company should encourge more customer reviews and give incentives to increase movies' ratings."
   ]
  },
  {
   "cell_type": "markdown",
   "metadata": {},
   "source": [
    "### Question 7: Which genre is popular and receives high ratings?"
   ]
  },
  {
   "cell_type": "code",
   "execution_count": 27,
   "metadata": {},
   "outputs": [
    {
     "name": "stdout",
     "output_type": "stream",
     "text": [
      " * mysql://root@localhost/movie_rental\n",
      "8 rows affected.\n"
     ]
    },
    {
     "data": {
      "text/html": [
       "<table>\n",
       "    <tr>\n",
       "        <th>genre</th>\n",
       "        <th>rating</th>\n",
       "        <th>movies</th>\n",
       "        <th>rentals</th>\n",
       "    </tr>\n",
       "    <tr>\n",
       "        <td>Art House &amp; International</td>\n",
       "        <td>6.5000</td>\n",
       "        <td>1</td>\n",
       "        <td>8</td>\n",
       "    </tr>\n",
       "    <tr>\n",
       "        <td>Action &amp; Adventure</td>\n",
       "        <td>6.2500</td>\n",
       "        <td>3</td>\n",
       "        <td>16</td>\n",
       "    </tr>\n",
       "    <tr>\n",
       "        <td>Science Fiction &amp; Fantasy</td>\n",
       "        <td>5.2421</td>\n",
       "        <td>11</td>\n",
       "        <td>95</td>\n",
       "    </tr>\n",
       "    <tr>\n",
       "        <td>Animation</td>\n",
       "        <td>4.6667</td>\n",
       "        <td>2</td>\n",
       "        <td>12</td>\n",
       "    </tr>\n",
       "    <tr>\n",
       "        <td>Drama</td>\n",
       "        <td>4.5580</td>\n",
       "        <td>36</td>\n",
       "        <td>319</td>\n",
       "    </tr>\n",
       "    <tr>\n",
       "        <td>Other</td>\n",
       "        <td>4.4000</td>\n",
       "        <td>2</td>\n",
       "        <td>20</td>\n",
       "    </tr>\n",
       "    <tr>\n",
       "        <td>Comedy</td>\n",
       "        <td>3.3768</td>\n",
       "        <td>10</td>\n",
       "        <td>69</td>\n",
       "    </tr>\n",
       "    <tr>\n",
       "        <td>Mystery &amp; Suspense</td>\n",
       "        <td>3.1538</td>\n",
       "        <td>6</td>\n",
       "        <td>39</td>\n",
       "    </tr>\n",
       "</table>"
      ],
      "text/plain": [
       "[('Art House & International', Decimal('6.5000'), 1, 8),\n",
       " ('Action & Adventure', Decimal('6.2500'), 3, 16),\n",
       " ('Science Fiction & Fantasy', Decimal('5.2421'), 11, 95),\n",
       " ('Animation', Decimal('4.6667'), 2, 12),\n",
       " ('Drama', Decimal('4.5580'), 36, 319),\n",
       " ('Other', Decimal('4.4000'), 2, 20),\n",
       " ('Comedy', Decimal('3.3768'), 10, 69),\n",
       " ('Mystery & Suspense', Decimal('3.1538'), 6, 39)]"
      ]
     },
     "execution_count": 27,
     "metadata": {},
     "output_type": "execute_result"
    }
   ],
   "source": [
    "%%sql\n",
    "SELECT m.genre, AVG(r.rating) as rating, COUNT(DISTINCT(r.movie_id)) as movies, COUNT(r.renting_id) as rentals\n",
    "FROM movies m\n",
    "JOIN renting r ON r.movie_id = m.movie_id\n",
    "GROUP BY genre\n",
    "ORDER BY rating DESC;"
   ]
  },
  {
   "cell_type": "markdown",
   "metadata": {},
   "source": [
    "Drama is the most popular genre but receives a low rating. The company may want to source more popular and highly-rated movies in this genre. In contrast, more movies in the Art House & International and Action & Adventure genre should be added because they receive the highest ratings."
   ]
  },
  {
   "cell_type": "markdown",
   "metadata": {},
   "source": [
    "### Question 8: Would customers prefer to watch longer or shorter movies?"
   ]
  },
  {
   "cell_type": "code",
   "execution_count": 47,
   "metadata": {},
   "outputs": [
    {
     "name": "stdout",
     "output_type": "stream",
     "text": [
      " * mysql://root@localhost/movie_rental\n",
      "1 rows affected.\n"
     ]
    },
    {
     "data": {
      "text/html": [
       "<table>\n",
       "    <tr>\n",
       "        <th>AVG(runtime)</th>\n",
       "    </tr>\n",
       "    <tr>\n",
       "        <td>121.0141</td>\n",
       "    </tr>\n",
       "</table>"
      ],
      "text/plain": [
       "[(Decimal('121.0141'),)]"
      ]
     },
     "execution_count": 47,
     "metadata": {},
     "output_type": "execute_result"
    }
   ],
   "source": [
    "%%sql\n",
    "SELECT AVG(runtime)\n",
    "FROM movies;"
   ]
  },
  {
   "cell_type": "code",
   "execution_count": 45,
   "metadata": {},
   "outputs": [
    {
     "name": "stdout",
     "output_type": "stream",
     "text": [
      " * mysql://root@localhost/movie_rental\n",
      "1 rows affected.\n"
     ]
    },
    {
     "data": {
      "text/html": [
       "<table>\n",
       "    <tr>\n",
       "        <th>longer_movies</th>\n",
       "        <th>rentals</th>\n",
       "        <th>rating</th>\n",
       "    </tr>\n",
       "    <tr>\n",
       "        <td>31</td>\n",
       "        <td>269</td>\n",
       "        <td>4.36059677</td>\n",
       "    </tr>\n",
       "</table>"
      ],
      "text/plain": [
       "[(31, Decimal('269'), Decimal('4.36059677'))]"
      ]
     },
     "execution_count": 45,
     "metadata": {},
     "output_type": "execute_result"
    }
   ],
   "source": [
    "%%sql\n",
    "SELECT COUNT(a.title) as longer_movies, SUM(a.rentals) as rentals, AVG(a.rating) as rating\n",
    "FROM\n",
    "    #movies with longer runtime\n",
    "    (SELECT m.title, COUNT(r.renting_id) as rentals, AVG(r.rating) as rating\n",
    "    FROM renting r\n",
    "    JOIN movies m ON r.movie_id = m.movie_id\n",
    "    WHERE m.runtime >= (SELECT AVG(runtime) FROM movies)\n",
    "    GROUP BY title) a;"
   ]
  },
  {
   "cell_type": "code",
   "execution_count": 66,
   "metadata": {},
   "outputs": [
    {
     "name": "stdout",
     "output_type": "stream",
     "text": [
      " * mysql://root@localhost/movie_rental\n",
      "1 rows affected.\n"
     ]
    },
    {
     "data": {
      "text/html": [
       "<table>\n",
       "    <tr>\n",
       "        <th>shorter_movies</th>\n",
       "        <th>rentals</th>\n",
       "        <th>rating</th>\n",
       "    </tr>\n",
       "    <tr>\n",
       "        <td>40</td>\n",
       "        <td>309</td>\n",
       "        <td>4.55002250</td>\n",
       "    </tr>\n",
       "</table>"
      ],
      "text/plain": [
       "[(40, Decimal('309'), Decimal('4.55002250'))]"
      ]
     },
     "execution_count": 66,
     "metadata": {},
     "output_type": "execute_result"
    }
   ],
   "source": [
    "%%sql\n",
    "SELECT COUNT(a.title) as shorter_movies, SUM(a.rentals) as rentals, AVG(a.rating) as rating\n",
    "FROM\n",
    "    #movies with shorter runtime\n",
    "    (SELECT m.title, COUNT(r.renting_id) as rentals, AVG(r.rating) as rating\n",
    "    FROM renting r\n",
    "    JOIN movies m ON r.movie_id = m.movie_id\n",
    "    WHERE m.runtime < (SELECT AVG(runtime) FROM movies)\n",
    "    GROUP BY title) a;"
   ]
  },
  {
   "cell_type": "markdown",
   "metadata": {},
   "source": [
    "The average movie runtime is 121 minutes. Let's assume that longer movies are equal or above the average and shorter movies are below. \n",
    "Longer movies have slightly higher traction than shorter movies (9 vs. 8 rental/movie). However, the average rating of shorter movies is higher than the counterpart. This means the runtime may not play an important role in the company's movie selection."
   ]
  },
  {
   "cell_type": "markdown",
   "metadata": {},
   "source": [
    "### Question 9: Are highest rated movies properly priced?"
   ]
  },
  {
   "cell_type": "code",
   "execution_count": 48,
   "metadata": {},
   "outputs": [
    {
     "name": "stdout",
     "output_type": "stream",
     "text": [
      " * mysql://root@localhost/movie_rental\n",
      "1 rows affected.\n"
     ]
    },
    {
     "data": {
      "text/html": [
       "<table>\n",
       "    <tr>\n",
       "        <th>AVG(renting_price)</th>\n",
       "    </tr>\n",
       "    <tr>\n",
       "        <td>2.2958</td>\n",
       "    </tr>\n",
       "</table>"
      ],
      "text/plain": [
       "[(Decimal('2.2958'),)]"
      ]
     },
     "execution_count": 48,
     "metadata": {},
     "output_type": "execute_result"
    }
   ],
   "source": [
    "%%sql\n",
    "SELECT AVG(renting_price)\n",
    "FROM movies;"
   ]
  },
  {
   "cell_type": "code",
   "execution_count": 59,
   "metadata": {},
   "outputs": [
    {
     "name": "stdout",
     "output_type": "stream",
     "text": [
      " * mysql://root@localhost/movie_rental\n",
      "20 rows affected.\n"
     ]
    },
    {
     "data": {
      "text/html": [
       "<table>\n",
       "    <tr>\n",
       "        <th>title</th>\n",
       "        <th>rating</th>\n",
       "        <th>renting_price</th>\n",
       "    </tr>\n",
       "    <tr>\n",
       "        <td>Ghost Rider: Spirit of Vengeance</td>\n",
       "        <td>9.0000</td>\n",
       "        <td>2</td>\n",
       "    </tr>\n",
       "    <tr>\n",
       "        <td>The Other Woman</td>\n",
       "        <td>7.5000</td>\n",
       "        <td>2</td>\n",
       "    </tr>\n",
       "    <tr>\n",
       "        <td>Harry Potter and the Half-Blood Prince</td>\n",
       "        <td>7.3077</td>\n",
       "        <td>2</td>\n",
       "    </tr>\n",
       "    <tr>\n",
       "        <td>Secondhand Lions</td>\n",
       "        <td>6.4286</td>\n",
       "        <td>2</td>\n",
       "    </tr>\n",
       "    <tr>\n",
       "        <td>Harry Potter and the Chamber of Secrets</td>\n",
       "        <td>6.4000</td>\n",
       "        <td>2</td>\n",
       "    </tr>\n",
       "    <tr>\n",
       "        <td>Harry Potter and the Prisoner of Azkaban</td>\n",
       "        <td>6.4000</td>\n",
       "        <td>2</td>\n",
       "    </tr>\n",
       "    <tr>\n",
       "        <td>Failure to Launch</td>\n",
       "        <td>6.0000</td>\n",
       "        <td>2</td>\n",
       "    </tr>\n",
       "    <tr>\n",
       "        <td>Young Adult</td>\n",
       "        <td>5.8889</td>\n",
       "        <td>2</td>\n",
       "    </tr>\n",
       "    <tr>\n",
       "        <td>The Hunger Games</td>\n",
       "        <td>5.6667</td>\n",
       "        <td>2</td>\n",
       "    </tr>\n",
       "    <tr>\n",
       "        <td>Rio 2</td>\n",
       "        <td>5.3333</td>\n",
       "        <td>2</td>\n",
       "    </tr>\n",
       "    <tr>\n",
       "        <td>I&#x27;m Not There</td>\n",
       "        <td>5.3333</td>\n",
       "        <td>2</td>\n",
       "    </tr>\n",
       "    <tr>\n",
       "        <td>Burn After Reading</td>\n",
       "        <td>5.2500</td>\n",
       "        <td>2</td>\n",
       "    </tr>\n",
       "    <tr>\n",
       "        <td>The Kingdom</td>\n",
       "        <td>5.2000</td>\n",
       "        <td>2</td>\n",
       "    </tr>\n",
       "    <tr>\n",
       "        <td>Shall We Dance</td>\n",
       "        <td>5.0909</td>\n",
       "        <td>2</td>\n",
       "    </tr>\n",
       "    <tr>\n",
       "        <td>Training Day</td>\n",
       "        <td>5.0714</td>\n",
       "        <td>2</td>\n",
       "    </tr>\n",
       "    <tr>\n",
       "        <td>Then She Found Me</td>\n",
       "        <td>4.9000</td>\n",
       "        <td>2</td>\n",
       "    </tr>\n",
       "    <tr>\n",
       "        <td>Harry Potter and the Order of the Phoenix</td>\n",
       "        <td>4.8889</td>\n",
       "        <td>2</td>\n",
       "    </tr>\n",
       "    <tr>\n",
       "        <td>The Frozen Ground</td>\n",
       "        <td>4.8750</td>\n",
       "        <td>2</td>\n",
       "    </tr>\n",
       "    <tr>\n",
       "        <td>Swordfish</td>\n",
       "        <td>4.8333</td>\n",
       "        <td>2</td>\n",
       "    </tr>\n",
       "    <tr>\n",
       "        <td>Sleepwalking</td>\n",
       "        <td>4.8333</td>\n",
       "        <td>2</td>\n",
       "    </tr>\n",
       "</table>"
      ],
      "text/plain": [
       "[('Ghost Rider: Spirit of Vengeance', Decimal('9.0000'), Decimal('2')),\n",
       " ('The Other Woman', Decimal('7.5000'), Decimal('2')),\n",
       " ('Harry Potter and the Half-Blood Prince', Decimal('7.3077'), Decimal('2')),\n",
       " ('Secondhand Lions', Decimal('6.4286'), Decimal('2')),\n",
       " ('Harry Potter and the Chamber of Secrets', Decimal('6.4000'), Decimal('2')),\n",
       " ('Harry Potter and the Prisoner of Azkaban', Decimal('6.4000'), Decimal('2')),\n",
       " ('Failure to Launch', Decimal('6.0000'), Decimal('2')),\n",
       " ('Young Adult', Decimal('5.8889'), Decimal('2')),\n",
       " ('The Hunger Games', Decimal('5.6667'), Decimal('2')),\n",
       " ('Rio 2', Decimal('5.3333'), Decimal('2')),\n",
       " (\"I'm Not There\", Decimal('5.3333'), Decimal('2')),\n",
       " ('Burn After Reading', Decimal('5.2500'), Decimal('2')),\n",
       " ('The Kingdom', Decimal('5.2000'), Decimal('2')),\n",
       " ('Shall We Dance', Decimal('5.0909'), Decimal('2')),\n",
       " ('Training Day', Decimal('5.0714'), Decimal('2')),\n",
       " ('Then She Found Me', Decimal('4.9000'), Decimal('2')),\n",
       " ('Harry Potter and the Order of the Phoenix', Decimal('4.8889'), Decimal('2')),\n",
       " ('The Frozen Ground', Decimal('4.8750'), Decimal('2')),\n",
       " ('Swordfish', Decimal('4.8333'), Decimal('2')),\n",
       " ('Sleepwalking', Decimal('4.8333'), Decimal('2'))]"
      ]
     },
     "execution_count": 59,
     "metadata": {},
     "output_type": "execute_result"
    }
   ],
   "source": [
    "%%sql\n",
    "SELECT m.title, AVG(r.rating) as rating, m.renting_price\n",
    "FROM movies m\n",
    "JOIN renting r ON r.movie_id = m.movie_id\n",
    "WHERE m.renting_price < (SELECT AVG(renting_price) FROM movies)\n",
    "GROUP BY title\n",
    "ORDER BY rating DESC\n",
    "LIMIT 20;"
   ]
  },
  {
   "cell_type": "markdown",
   "metadata": {},
   "source": [
    "In order to increase revenue, the company may either increase the number of rentals or price per rental. Movies with high ratings are most likely those with a higher than average price. The average renting price is 2.2 USD/movie. The table above shows the movies with high ratings but are priced below the average. The company is recommended to increase the renting price of movies with 6.0 rating or above to $3 and monitor the performance."
   ]
  },
  {
   "cell_type": "markdown",
   "metadata": {},
   "source": [
    "### Question 10: Who are the most popular actors?"
   ]
  },
  {
   "cell_type": "code",
   "execution_count": 16,
   "metadata": {},
   "outputs": [
    {
     "name": "stdout",
     "output_type": "stream",
     "text": [
      " * mysql://root@localhost/movie_rental\n",
      "10 rows affected.\n"
     ]
    },
    {
     "data": {
      "text/html": [
       "<table>\n",
       "    <tr>\n",
       "        <th>actor</th>\n",
       "        <th>movies</th>\n",
       "        <th>rentals</th>\n",
       "    </tr>\n",
       "    <tr>\n",
       "        <td>Emma Watson</td>\n",
       "        <td>8</td>\n",
       "        <td>71</td>\n",
       "    </tr>\n",
       "    <tr>\n",
       "        <td>Rupert Grint</td>\n",
       "        <td>8</td>\n",
       "        <td>71</td>\n",
       "    </tr>\n",
       "    <tr>\n",
       "        <td>Daniel Radcliffe</td>\n",
       "        <td>8</td>\n",
       "        <td>71</td>\n",
       "    </tr>\n",
       "    <tr>\n",
       "        <td>Jamie Foxx</td>\n",
       "        <td>4</td>\n",
       "        <td>42</td>\n",
       "    </tr>\n",
       "    <tr>\n",
       "        <td>Al Pacino</td>\n",
       "        <td>4</td>\n",
       "        <td>37</td>\n",
       "    </tr>\n",
       "    <tr>\n",
       "        <td>Helen Hunt</td>\n",
       "        <td>4</td>\n",
       "        <td>37</td>\n",
       "    </tr>\n",
       "    <tr>\n",
       "        <td>Charlize Theron</td>\n",
       "        <td>4</td>\n",
       "        <td>33</td>\n",
       "    </tr>\n",
       "    <tr>\n",
       "        <td>Nicolas Cage</td>\n",
       "        <td>4</td>\n",
       "        <td>31</td>\n",
       "    </tr>\n",
       "    <tr>\n",
       "        <td>Elijah Wood</td>\n",
       "        <td>4</td>\n",
       "        <td>30</td>\n",
       "    </tr>\n",
       "    <tr>\n",
       "        <td>Catherine Keener</td>\n",
       "        <td>3</td>\n",
       "        <td>27</td>\n",
       "    </tr>\n",
       "</table>"
      ],
      "text/plain": [
       "[('Emma Watson', 8, 71),\n",
       " ('Rupert Grint', 8, 71),\n",
       " ('Daniel Radcliffe', 8, 71),\n",
       " ('Jamie Foxx', 4, 42),\n",
       " ('Al Pacino', 4, 37),\n",
       " ('Helen Hunt', 4, 37),\n",
       " ('Charlize Theron', 4, 33),\n",
       " ('Nicolas Cage', 4, 31),\n",
       " ('Elijah Wood', 4, 30),\n",
       " ('Catherine Keener', 3, 27)]"
      ]
     },
     "execution_count": 16,
     "metadata": {},
     "output_type": "execute_result"
    }
   ],
   "source": [
    "%%sql\n",
    "SELECT a.name as actor, COUNT(DISTINCT(b.movie_id)) as movies, COUNT(r.renting_id) as rentals\n",
    "FROM actors a\n",
    "JOIN actsin b ON a.actor_id = b.actor_id\n",
    "JOIN renting r ON b.movie_id = r.movie_id\n",
    "GROUP BY actor\n",
    "ORDER BY rentals DESC\n",
    "LIMIT 10;"
   ]
  },
  {
   "cell_type": "markdown",
   "metadata": {},
   "source": [
    "Actors play a pivotal role in audience's movie picking decisions. Knowing that Emma Watson, Rupert Grint, and Daniel Radcliffe are the most popular actors, the company can add more movies featuring these actors in the movie list."
   ]
  }
 ],
 "metadata": {
  "kernelspec": {
   "display_name": "Python 3",
   "language": "python",
   "name": "python3"
  },
  "language_info": {
   "codemirror_mode": {
    "name": "ipython",
    "version": 3
   },
   "file_extension": ".py",
   "mimetype": "text/x-python",
   "name": "python",
   "nbconvert_exporter": "python",
   "pygments_lexer": "ipython3",
   "version": "3.8.5"
  }
 },
 "nbformat": 4,
 "nbformat_minor": 4
}
